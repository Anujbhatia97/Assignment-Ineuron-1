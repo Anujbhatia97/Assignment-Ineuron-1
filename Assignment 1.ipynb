{
 "cells": [
  {
   "cell_type": "code",
   "execution_count": 5,
   "id": "13c9662d",
   "metadata": {},
   "outputs": [],
   "source": [
    "type = -87.8"
   ]
  },
  {
   "cell_type": "code",
   "execution_count": 7,
   "id": "0519615e",
   "metadata": {},
   "outputs": [
    {
     "data": {
      "text/plain": [
       "'A Variable is a store of information, and a String is a type of information you would store in a Variable. A String is usually words, enclosed with \"\"'"
      ]
     },
     "execution_count": 7,
     "metadata": {},
     "output_type": "execute_result"
    }
   ],
   "source": [
    "'A Variable is a store of information, and a String is a type of information you would store in a Variable. A String is usually words, enclosed with \"\"'"
   ]
  },
  {
   "cell_type": "code",
   "execution_count": null,
   "id": "7db8e17b",
   "metadata": {},
   "outputs": [],
   "source": [
    "Three Different Data Types\n",
    "1. String - A  string is a data type used in programming, such as an integer and floating point unit, but is used to represent text rather than numbers. It is comprised of a set of characters that can also contain spaces and numbers\n",
    "2. Float (floating point) - The Python float() method converts a number stored in a string or integer into a floating point number, or a number with a decimal point\n",
    "3. Boolean - Python boolean type is one of the built-in data types provided by Python, which represents one of the two values i.e. True or False. Generally, it is used to represent the truth values of the expressions"
   ]
  },
  {
   "cell_type": "code",
   "execution_count": 9,
   "id": "a060517d",
   "metadata": {},
   "outputs": [
    {
     "data": {
      "text/plain": [
       "'An expression is a combination of values, variables, operators, and calls to functions. Expressions need to be evaluated. If you ask Python to print an expression, the interpreter evaluates the expression and displays the result.'"
      ]
     },
     "execution_count": 9,
     "metadata": {},
     "output_type": "execute_result"
    }
   ],
   "source": [
    "\"An expression is a combination of values, variables, operators, and calls to functions. Expressions need to be evaluated. If you ask Python to print an expression, the interpreter evaluates the expression and displays the result.\""
   ]
  },
  {
   "cell_type": "code",
   "execution_count": 12,
   "id": "5be270d0",
   "metadata": {},
   "outputs": [
    {
     "name": "stdout",
     "output_type": "stream",
     "text": [
      "22\n"
     ]
    }
   ],
   "source": [
    "bacon = 22\n",
    "print(bacon)"
   ]
  },
  {
   "cell_type": "code",
   "execution_count": 13,
   "id": "8babdb0a",
   "metadata": {},
   "outputs": [
    {
     "data": {
      "text/plain": [
       "23"
      ]
     },
     "execution_count": 13,
     "metadata": {},
     "output_type": "execute_result"
    }
   ],
   "source": [
    "bacon + 1"
   ]
  },
  {
   "cell_type": "code",
   "execution_count": 14,
   "id": "11403cc9",
   "metadata": {},
   "outputs": [
    {
     "data": {
      "text/plain": [
       "'spamspamspam'"
      ]
     },
     "execution_count": 14,
     "metadata": {},
     "output_type": "execute_result"
    }
   ],
   "source": [
    "'spam' + 'spamspam'"
   ]
  },
  {
   "cell_type": "code",
   "execution_count": 15,
   "id": "2b79fef7",
   "metadata": {},
   "outputs": [
    {
     "data": {
      "text/plain": [
       "'spamspamspam'"
      ]
     },
     "execution_count": 15,
     "metadata": {},
     "output_type": "execute_result"
    }
   ],
   "source": [
    "'spam' * 3"
   ]
  },
  {
   "cell_type": "code",
   "execution_count": 19,
   "id": "2136c0de",
   "metadata": {},
   "outputs": [
    {
     "data": {
      "text/plain": [
       "'Because variable names cannot begin with a number.'"
      ]
     },
     "execution_count": 19,
     "metadata": {},
     "output_type": "execute_result"
    }
   ],
   "source": [
    "'Why is eggs a valid variable name while 100 is invalid?'\n",
    "'Because variable names cannot begin with a number.'"
   ]
  },
  {
   "cell_type": "code",
   "execution_count": null,
   "id": "6b9dc91d",
   "metadata": {},
   "outputs": [],
   "source": [
    "str()\n",
    "int()\n",
    "float()"
   ]
  },
  {
   "cell_type": "code",
   "execution_count": null,
   "id": "6c0ebeb4",
   "metadata": {},
   "outputs": [],
   "source": [
    "'This expression causes and error because in this line 'I have eaten' and 'burritos' are strings, while 99 is treated as integer. In order to fix the error and print 'I have eaten 99 burritos.', 99 needs '' around it to treat it as a string.'"
   ]
  },
  {
   "cell_type": "code",
   "execution_count": 27,
   "id": "3f630008",
   "metadata": {},
   "outputs": [
    {
     "data": {
      "text/plain": [
       "'I have eaten 99 burritos'"
      ]
     },
     "execution_count": 27,
     "metadata": {},
     "output_type": "execute_result"
    }
   ],
   "source": [
    "'I have eaten 99 burritos'"
   ]
  },
  {
   "cell_type": "code",
   "execution_count": null,
   "id": "dd656984",
   "metadata": {},
   "outputs": [],
   "source": []
  }
 ],
 "metadata": {
  "kernelspec": {
   "display_name": "Python 3 (ipykernel)",
   "language": "python",
   "name": "python3"
  },
  "language_info": {
   "codemirror_mode": {
    "name": "ipython",
    "version": 3
   },
   "file_extension": ".py",
   "mimetype": "text/x-python",
   "name": "python",
   "nbconvert_exporter": "python",
   "pygments_lexer": "ipython3",
   "version": "3.9.7"
  }
 },
 "nbformat": 4,
 "nbformat_minor": 5
}
